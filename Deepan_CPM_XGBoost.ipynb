{
 "cells": [
  {
   "cell_type": "markdown",
   "metadata": {
    "id": "VihEAU9sTKmI"
   },
   "source": [
    "# 1. Importing Libraries"
   ]
  },
  {
   "cell_type": "code",
   "execution_count": 1,
   "metadata": {
    "id": "CQR5YHghTKmm"
   },
   "outputs": [],
   "source": [
    "# Add required libraries\n",
    "import pandas as pd\n",
    "import numpy as np\n",
    "import matplotlib.pyplot as plt\n",
    "import seaborn as sns \n",
    "\n",
    "#from sklearn.model_selection import train_test_split\n",
    "import xgboost as xgb\n",
    "from xgboost import plot_importance\n",
    "from sklearn.metrics import r2_score,mean_absolute_error,mean_squared_error,accuracy_score\n",
    "\n",
    "import optuna\n",
    "seed =42 # for repeatability\n",
    "%matplotlib inline"
   ]
  },
  {
   "cell_type": "markdown",
   "metadata": {
    "id": "W9mMp39-TKmr"
   },
   "source": [
    "\n",
    "# 2. Getting Data"
   ]
  },
  {
   "cell_type": "code",
   "execution_count": 2,
   "metadata": {
    "id": "LMWabNo-TKmu"
   },
   "outputs": [],
   "source": [
    "# Load data set\n",
    "# Add path for the data set\n",
    "path = 'D:\\Ascendeum\\DataScientist_L2\\DataScientist_L2/Ascendeum_Dataset2.csv'\n",
    "df = pd.read_csv(path)\n",
    "Xact = df"
   ]
  },
  {
   "cell_type": "markdown",
   "metadata": {
    "id": "aJ-xOKKxTKmv"
   },
   "source": [
    "# 3. Understanding Data"
   ]
  },
  {
   "cell_type": "code",
   "execution_count": 3,
   "metadata": {
    "colab": {
     "base_uri": "https://localhost:8080/",
     "height": 313
    },
    "id": "LND6yz7LTKmx",
    "outputId": "f04cf7e1-f239-40f8-ba06-f717b1600d56"
   },
   "outputs": [
    {
     "data": {
      "text/html": [
       "<div>\n",
       "<style scoped>\n",
       "    .dataframe tbody tr th:only-of-type {\n",
       "        vertical-align: middle;\n",
       "    }\n",
       "\n",
       "    .dataframe tbody tr th {\n",
       "        vertical-align: top;\n",
       "    }\n",
       "\n",
       "    .dataframe thead th {\n",
       "        text-align: right;\n",
       "    }\n",
       "</style>\n",
       "<table border=\"1\" class=\"dataframe\">\n",
       "  <thead>\n",
       "    <tr style=\"text-align: right;\">\n",
       "      <th></th>\n",
       "      <th>date</th>\n",
       "      <th>site_id</th>\n",
       "      <th>ad_type_id</th>\n",
       "      <th>geo_id</th>\n",
       "      <th>device_category_id</th>\n",
       "      <th>advertiser_id</th>\n",
       "      <th>order_id</th>\n",
       "      <th>line_item_type_id</th>\n",
       "      <th>os_id</th>\n",
       "      <th>integration_type_id</th>\n",
       "      <th>monetization_channel_id</th>\n",
       "      <th>ad_unit_id</th>\n",
       "      <th>total_impressions</th>\n",
       "      <th>total_revenue</th>\n",
       "      <th>viewable_impressions</th>\n",
       "      <th>measurable_impressions</th>\n",
       "      <th>revenue_share_percent</th>\n",
       "    </tr>\n",
       "  </thead>\n",
       "  <tbody>\n",
       "    <tr>\n",
       "      <th>0</th>\n",
       "      <td>2019-06-30 00:00:00</td>\n",
       "      <td>351</td>\n",
       "      <td>10</td>\n",
       "      <td>187</td>\n",
       "      <td>2</td>\n",
       "      <td>84</td>\n",
       "      <td>3473</td>\n",
       "      <td>19</td>\n",
       "      <td>60</td>\n",
       "      <td>1</td>\n",
       "      <td>4</td>\n",
       "      <td>5174</td>\n",
       "      <td>16</td>\n",
       "      <td>0.0</td>\n",
       "      <td>2</td>\n",
       "      <td>16</td>\n",
       "      <td>1</td>\n",
       "    </tr>\n",
       "    <tr>\n",
       "      <th>1</th>\n",
       "      <td>2019-06-30 00:00:00</td>\n",
       "      <td>351</td>\n",
       "      <td>10</td>\n",
       "      <td>187</td>\n",
       "      <td>2</td>\n",
       "      <td>84</td>\n",
       "      <td>3473</td>\n",
       "      <td>19</td>\n",
       "      <td>58</td>\n",
       "      <td>1</td>\n",
       "      <td>4</td>\n",
       "      <td>5174</td>\n",
       "      <td>6</td>\n",
       "      <td>0.0</td>\n",
       "      <td>0</td>\n",
       "      <td>6</td>\n",
       "      <td>1</td>\n",
       "    </tr>\n",
       "    <tr>\n",
       "      <th>2</th>\n",
       "      <td>2019-06-30 00:00:00</td>\n",
       "      <td>351</td>\n",
       "      <td>10</td>\n",
       "      <td>147</td>\n",
       "      <td>2</td>\n",
       "      <td>84</td>\n",
       "      <td>3473</td>\n",
       "      <td>19</td>\n",
       "      <td>60</td>\n",
       "      <td>1</td>\n",
       "      <td>4</td>\n",
       "      <td>5174</td>\n",
       "      <td>4</td>\n",
       "      <td>0.0</td>\n",
       "      <td>0</td>\n",
       "      <td>4</td>\n",
       "      <td>1</td>\n",
       "    </tr>\n",
       "    <tr>\n",
       "      <th>3</th>\n",
       "      <td>2019-06-30 00:00:00</td>\n",
       "      <td>351</td>\n",
       "      <td>10</td>\n",
       "      <td>147</td>\n",
       "      <td>2</td>\n",
       "      <td>84</td>\n",
       "      <td>3473</td>\n",
       "      <td>19</td>\n",
       "      <td>58</td>\n",
       "      <td>1</td>\n",
       "      <td>4</td>\n",
       "      <td>5174</td>\n",
       "      <td>4</td>\n",
       "      <td>0.0</td>\n",
       "      <td>0</td>\n",
       "      <td>4</td>\n",
       "      <td>1</td>\n",
       "    </tr>\n",
       "    <tr>\n",
       "      <th>4</th>\n",
       "      <td>2019-06-30 00:00:00</td>\n",
       "      <td>348</td>\n",
       "      <td>10</td>\n",
       "      <td>147</td>\n",
       "      <td>3</td>\n",
       "      <td>79</td>\n",
       "      <td>3463</td>\n",
       "      <td>20</td>\n",
       "      <td>59</td>\n",
       "      <td>1</td>\n",
       "      <td>19</td>\n",
       "      <td>5138</td>\n",
       "      <td>4</td>\n",
       "      <td>0.0</td>\n",
       "      <td>0</td>\n",
       "      <td>4</td>\n",
       "      <td>1</td>\n",
       "    </tr>\n",
       "  </tbody>\n",
       "</table>\n",
       "</div>"
      ],
      "text/plain": [
       "                  date  site_id  ad_type_id  geo_id  device_category_id  \\\n",
       "0  2019-06-30 00:00:00      351          10     187                   2   \n",
       "1  2019-06-30 00:00:00      351          10     187                   2   \n",
       "2  2019-06-30 00:00:00      351          10     147                   2   \n",
       "3  2019-06-30 00:00:00      351          10     147                   2   \n",
       "4  2019-06-30 00:00:00      348          10     147                   3   \n",
       "\n",
       "   advertiser_id  order_id  line_item_type_id  os_id  integration_type_id  \\\n",
       "0             84      3473                 19     60                    1   \n",
       "1             84      3473                 19     58                    1   \n",
       "2             84      3473                 19     60                    1   \n",
       "3             84      3473                 19     58                    1   \n",
       "4             79      3463                 20     59                    1   \n",
       "\n",
       "   monetization_channel_id  ad_unit_id  total_impressions  total_revenue  \\\n",
       "0                        4        5174                 16            0.0   \n",
       "1                        4        5174                  6            0.0   \n",
       "2                        4        5174                  4            0.0   \n",
       "3                        4        5174                  4            0.0   \n",
       "4                       19        5138                  4            0.0   \n",
       "\n",
       "   viewable_impressions  measurable_impressions  revenue_share_percent  \n",
       "0                     2                      16                      1  \n",
       "1                     0                       6                      1  \n",
       "2                     0                       4                      1  \n",
       "3                     0                       4                      1  \n",
       "4                     0                       4                      1  "
      ]
     },
     "execution_count": 3,
     "metadata": {},
     "output_type": "execute_result"
    }
   ],
   "source": [
    "df.head() "
   ]
  },
  {
   "cell_type": "code",
   "execution_count": 4,
   "metadata": {
    "colab": {
     "base_uri": "https://localhost:8080/"
    },
    "id": "WZQnfSbCTKm1",
    "outputId": "8e63a3f7-be2a-444e-8edd-fa9cb2111024"
   },
   "outputs": [
    {
     "data": {
      "text/plain": [
       "(567291, 17)"
      ]
     },
     "execution_count": 4,
     "metadata": {},
     "output_type": "execute_result"
    }
   ],
   "source": [
    "df.shape"
   ]
  },
  {
   "cell_type": "code",
   "execution_count": 5,
   "metadata": {
    "id": "XjPxQdfxTKm2"
   },
   "outputs": [],
   "source": [
    "# converting date column to datetime \n",
    "df['date'] = pd.to_datetime(df['date'],errors='coerce')"
   ]
  },
  {
   "cell_type": "markdown",
   "metadata": {},
   "source": [
    "# 4. Data cleaning"
   ]
  },
  {
   "cell_type": "code",
   "execution_count": 6,
   "metadata": {
    "colab": {
     "base_uri": "https://localhost:8080/"
    },
    "id": "BAuon4TdTKm5",
    "outputId": "a1a7f696-15ee-4ac5-bb1f-02f7874a8ed2"
   },
   "outputs": [
    {
     "data": {
      "text/plain": [
       "date                       0\n",
       "site_id                    0\n",
       "ad_type_id                 0\n",
       "geo_id                     0\n",
       "device_category_id         0\n",
       "advertiser_id              0\n",
       "order_id                   0\n",
       "line_item_type_id          0\n",
       "os_id                      0\n",
       "integration_type_id        0\n",
       "monetization_channel_id    0\n",
       "ad_unit_id                 0\n",
       "total_impressions          0\n",
       "total_revenue              0\n",
       "viewable_impressions       0\n",
       "measurable_impressions     0\n",
       "revenue_share_percent      0\n",
       "dtype: int64"
      ]
     },
     "execution_count": 6,
     "metadata": {},
     "output_type": "execute_result"
    }
   ],
   "source": [
    " df.isnull().sum() # Check the missing elements"
   ]
  },
  {
   "cell_type": "markdown",
   "metadata": {},
   "source": [
    "# 5. Data analysis"
   ]
  },
  {
   "cell_type": "code",
   "execution_count": 7,
   "metadata": {
    "colab": {
     "base_uri": "https://localhost:8080/"
    },
    "id": "zdw-BCZvTKm7",
    "outputId": "874b8c8f-ec1e-4e04-b61f-e8ec051db04b"
   },
   "outputs": [
    {
     "name": "stdout",
     "output_type": "stream",
     "text": [
      "<class 'pandas.core.frame.DataFrame'>\n",
      "RangeIndex: 567291 entries, 0 to 567290\n",
      "Data columns (total 17 columns):\n",
      " #   Column                   Non-Null Count   Dtype         \n",
      "---  ------                   --------------   -----         \n",
      " 0   date                     567291 non-null  datetime64[ns]\n",
      " 1   site_id                  567291 non-null  int64         \n",
      " 2   ad_type_id               567291 non-null  int64         \n",
      " 3   geo_id                   567291 non-null  int64         \n",
      " 4   device_category_id       567291 non-null  int64         \n",
      " 5   advertiser_id            567291 non-null  int64         \n",
      " 6   order_id                 567291 non-null  int64         \n",
      " 7   line_item_type_id        567291 non-null  int64         \n",
      " 8   os_id                    567291 non-null  int64         \n",
      " 9   integration_type_id      567291 non-null  int64         \n",
      " 10  monetization_channel_id  567291 non-null  int64         \n",
      " 11  ad_unit_id               567291 non-null  int64         \n",
      " 12  total_impressions        567291 non-null  int64         \n",
      " 13  total_revenue            567291 non-null  float64       \n",
      " 14  viewable_impressions     567291 non-null  int64         \n",
      " 15  measurable_impressions   567291 non-null  int64         \n",
      " 16  revenue_share_percent    567291 non-null  int64         \n",
      "dtypes: datetime64[ns](1), float64(1), int64(15)\n",
      "memory usage: 73.6 MB\n"
     ]
    }
   ],
   "source": [
    "df.info() # Check the data type of the variables"
   ]
  },
  {
   "cell_type": "code",
   "execution_count": 8,
   "metadata": {
    "id": "RlCYtbkN6lUT"
   },
   "outputs": [
    {
     "name": "stdout",
     "output_type": "stream",
     "text": [
      "567291\n",
      "Number of duplicated rows: 23164\n",
      "dropping duplicates\n"
     ]
    }
   ],
   "source": [
    "# checking for duplicate rows\n",
    "print(df.shape[0])\n",
    "print(f'Number of duplicated rows: {df.shape[0] - df.drop_duplicates().shape[0]}')\n",
    "print('dropping duplicates')\n",
    "df = df.drop_duplicates()"
   ]
  },
  {
   "cell_type": "code",
   "execution_count": 9,
   "metadata": {
    "colab": {
     "base_uri": "https://localhost:8080/",
     "height": 444
    },
    "id": "4-c2drWZ6qFQ",
    "outputId": "a01297a0-178c-4a28-bbcb-ddbf942e241c"
   },
   "outputs": [
    {
     "data": {
      "text/plain": [
       "(544127, 17)"
      ]
     },
     "execution_count": 9,
     "metadata": {},
     "output_type": "execute_result"
    }
   ],
   "source": [
    "df.shape"
   ]
  },
  {
   "cell_type": "code",
   "execution_count": 10,
   "metadata": {
    "id": "4upm5SBxoxO3"
   },
   "outputs": [
    {
     "name": "stderr",
     "output_type": "stream",
     "text": [
      "C:\\Users\\JD\\Anaconda3\\lib\\site-packages\\ipykernel_launcher.py:2: SettingWithCopyWarning: \n",
      "A value is trying to be set on a copy of a slice from a DataFrame.\n",
      "Try using .loc[row_indexer,col_indexer] = value instead\n",
      "\n",
      "See the caveats in the documentation: https://pandas.pydata.org/pandas-docs/stable/user_guide/indexing.html#returning-a-view-versus-a-copy\n",
      "  \n",
      "C:\\Users\\JD\\Anaconda3\\lib\\site-packages\\ipykernel_launcher.py:4: SettingWithCopyWarning: \n",
      "A value is trying to be set on a copy of a slice from a DataFrame.\n",
      "Try using .loc[row_indexer,col_indexer] = value instead\n",
      "\n",
      "See the caveats in the documentation: https://pandas.pydata.org/pandas-docs/stable/user_guide/indexing.html#returning-a-view-versus-a-copy\n",
      "  after removing the cwd from sys.path.\n"
     ]
    }
   ],
   "source": [
    "# Add varibles\n",
    "df['weekday'] = df['date'].apply(lambda x:x.weekday())\n",
    "df['View_perc'] = np.where(df['measurable_impressions']!=0,\n",
    "                           df['viewable_impressions']/df['measurable_impressions'],0)"
   ]
  },
  {
   "cell_type": "code",
   "execution_count": 11,
   "metadata": {
    "colab": {
     "base_uri": "https://localhost:8080/"
    },
    "id": "O3MHoL02TKnA",
    "outputId": "3a27b1dd-64d3-4b0a-beac-7c063bf4f4f0",
    "scrolled": true
   },
   "outputs": [
    {
     "data": {
      "text/plain": [
       "date                          30\n",
       "site_id                       10\n",
       "ad_type_id                     2\n",
       "geo_id                       219\n",
       "device_category_id             5\n",
       "advertiser_id                 23\n",
       "order_id                      75\n",
       "line_item_type_id              7\n",
       "os_id                          7\n",
       "integration_type_id            1\n",
       "monetization_channel_id        5\n",
       "ad_unit_id                   132\n",
       "total_impressions           1979\n",
       "total_revenue              10099\n",
       "viewable_impressions        1159\n",
       "measurable_impressions      1884\n",
       "revenue_share_percent          1\n",
       "weekday                        7\n",
       "View_perc                  12673\n",
       "dtype: int64"
      ]
     },
     "execution_count": 11,
     "metadata": {},
     "output_type": "execute_result"
    }
   ],
   "source": [
    "df.nunique() # Count Distinct Values"
   ]
  },
  {
   "cell_type": "markdown",
   "metadata": {},
   "source": [
    "# 6. Features selection"
   ]
  },
  {
   "cell_type": "code",
   "execution_count": 12,
   "metadata": {
    "id": "p_qtef1VTKnD"
   },
   "outputs": [],
   "source": [
    "# We can infer from above that these columns only have one unqique value\n",
    "# so dropping it\n",
    "df = df.drop(['integration_type_id','revenue_share_percent'],axis=1)"
   ]
  },
  {
   "cell_type": "code",
   "execution_count": 13,
   "metadata": {},
   "outputs": [],
   "source": [
    "# Since it is mentioned in the problem description dropping columns as below\n",
    "df = df.drop(['order_id', 'line_item_type_id'],axis=1)"
   ]
  },
  {
   "cell_type": "code",
   "execution_count": 14,
   "metadata": {},
   "outputs": [
    {
     "name": "stdout",
     "output_type": "stream",
     "text": [
      "Index([], dtype='object')\n"
     ]
    }
   ],
   "source": [
    "# Checking if there are any categorical/object column?\n",
    "# All are either float or ints\n",
    "print(df.select_dtypes(['object']).columns)"
   ]
  },
  {
   "cell_type": "markdown",
   "metadata": {
    "id": "MZRdKp8MQR74"
   },
   "source": [
    "Above analysis explained:\n",
    "1. order_id and line_item_type_id are dropped as mentioned in problem formulation\n",
    "\n",
    "2. integration_type_id and revenue_share_percent are dropped since both have only one unique category\n",
    "\n",
    "3. Catagorical variables (Which have unique values less than 12): \n",
    "\n",
    "    site_id, ad_type_id, device_category_id,       line_item_type_id,os_id, integration_type_id,monetization_channel_id, revenue_share_percent.\n",
    "\n",
    "4. Data types in the data set are 'Object', 'integer' and 'float'\n",
    "\n",
    "5. No missing values in the given features "
   ]
  },
  {
   "cell_type": "code",
   "execution_count": 15,
   "metadata": {},
   "outputs": [
    {
     "data": {
      "text/plain": [
       "(544127, 15)"
      ]
     },
     "execution_count": 15,
     "metadata": {},
     "output_type": "execute_result"
    }
   ],
   "source": [
    "df.shape"
   ]
  },
  {
   "cell_type": "markdown",
   "metadata": {},
   "source": [
    "CPM (Cost per thousand impressions) calculation \n",
    "+ CPM = (revenue/impressions)*1000"
   ]
  },
  {
   "cell_type": "code",
   "execution_count": 16,
   "metadata": {
    "id": "0KsBEjaQ7DiF"
   },
   "outputs": [],
   "source": [
    "df['CPM'] = np.where(df['measurable_impressions']!=0, (df['total_revenue']*100/df['measurable_impressions'])*1000,0)\n",
    "df_corr = df # df for correlation analysis"
   ]
  },
  {
   "cell_type": "code",
   "execution_count": 17,
   "metadata": {
    "colab": {
     "base_uri": "https://localhost:8080/"
    },
    "id": "IiK8K8tKKXnM",
    "outputId": "0554dc84-7b9b-4986-893a-72851cb17206"
   },
   "outputs": [
    {
     "data": {
      "text/plain": [
       "0.000000      276330\n",
       "10.000000      15772\n",
       "20.000000      11898\n",
       "200.000000      9756\n",
       "30.000000       9136\n",
       "               ...  \n",
       "318.509804         1\n",
       "439.054726         1\n",
       "90.810811          1\n",
       "478.575096         1\n",
       "423.265306         1\n",
       "Name: CPM, Length: 35879, dtype: int64"
      ]
     },
     "execution_count": 17,
     "metadata": {},
     "output_type": "execute_result"
    }
   ],
   "source": [
    "df['CPM'].value_counts()"
   ]
  },
  {
   "cell_type": "code",
   "execution_count": 18,
   "metadata": {},
   "outputs": [],
   "source": [
    "# Since we used 'total_revenue' and 'measurable inpressions' to calculate 'CPM' \n",
    "# we need to drop any one the feature\n",
    "# so dropping total_revenue\n",
    "df = df.drop(['total_revenue'],axis=1)\n",
    "df_fortest = df"
   ]
  },
  {
   "cell_type": "code",
   "execution_count": 19,
   "metadata": {},
   "outputs": [
    {
     "data": {
      "text/plain": [
       "(544127, 15)"
      ]
     },
     "execution_count": 19,
     "metadata": {},
     "output_type": "execute_result"
    }
   ],
   "source": [
    "df.shape"
   ]
  },
  {
   "cell_type": "markdown",
   "metadata": {
    "id": "e59ra7RHKd1y"
   },
   "source": [
    "# 7. Modelling"
   ]
  },
  {
   "cell_type": "markdown",
   "metadata": {},
   "source": [
    "7.1 Approach 1 : ML model - XGBoost\n",
    "    * Modelling without removing outliers"
   ]
  },
  {
   "cell_type": "code",
   "execution_count": 20,
   "metadata": {
    "id": "RJwJHKowTKnH"
   },
   "outputs": [],
   "source": [
    "# Modelling - Iteration 1\n",
    "# ML model\n",
    "\n",
    "y = df['CPM']\n",
    "X = df.drop(columns=['date',\"CPM\"]) # For modelling\n"
   ]
  },
  {
   "cell_type": "markdown",
   "metadata": {},
   "source": [
    "Training and testing data selection\n",
    "    * Selection based on date 06-22-2019"
   ]
  },
  {
   "cell_type": "code",
   "execution_count": 21,
   "metadata": {},
   "outputs": [],
   "source": [
    "train_X = X.loc[df.date < pd.Timestamp('06-22-2019')]\n",
    "val_X = X.loc[df.date >= pd.Timestamp('06-22-2019')]\n",
    "train_y = y.loc[df.date < pd.Timestamp('06-22-2019')]\n",
    "val_y = y.loc[df.date >= pd.Timestamp('06-22-2019')]"
   ]
  },
  {
   "cell_type": "code",
   "execution_count": 22,
   "metadata": {
    "colab": {
     "base_uri": "https://localhost:8080/"
    },
    "id": "GGD5X26w0EW7",
    "outputId": "f901befb-3c93-43e2-e016-8f27a2ae7727"
   },
   "outputs": [
    {
     "data": {
      "text/plain": [
       "((379584, 13), (379584,), (164543, 13), (164543,))"
      ]
     },
     "execution_count": 22,
     "metadata": {},
     "output_type": "execute_result"
    }
   ],
   "source": [
    "train_X.shape, train_y.shape, val_X.shape, val_y.shape"
   ]
  },
  {
   "cell_type": "markdown",
   "metadata": {},
   "source": [
    "XGBoost model fitting"
   ]
  },
  {
   "cell_type": "code",
   "execution_count": 23,
   "metadata": {
    "colab": {
     "base_uri": "https://localhost:8080/"
    },
    "id": "ULmecGiTTKnI",
    "outputId": "b3deeef1-4b53-4089-81fe-0b27b738cff6",
    "scrolled": true
   },
   "outputs": [
    {
     "name": "stdout",
     "output_type": "stream",
     "text": [
      "[16:11:15] WARNING: src/objective/regression_obj.cu:152: reg:linear is now deprecated in favor of reg:squarederror.\n"
     ]
    }
   ],
   "source": [
    "model_xgb1 = xgb.XGBRegressor()\n",
    "model_xgb1.fit(train_X, train_y)\n",
    "xgb_preds = model_xgb1.predict(val_X)"
   ]
  },
  {
   "cell_type": "markdown",
   "metadata": {},
   "source": [
    "Error metric evaluation"
   ]
  },
  {
   "cell_type": "code",
   "execution_count": 24,
   "metadata": {},
   "outputs": [
    {
     "name": "stdout",
     "output_type": "stream",
     "text": [
      "MAE: 107.33936764099386\n",
      "MSE: 330791.74714952114\n",
      "R2: 0.08742662833759507\n"
     ]
    }
   ],
   "source": [
    "print(\"MAE:\", mean_absolute_error(val_y, xgb_preds))\n",
    "print(\"MSE:\", mean_squared_error(val_y, xgb_preds))\n",
    "print(\"R2:\",r2_score(val_y,xgb_preds))"
   ]
  },
  {
   "cell_type": "markdown",
   "metadata": {
    "id": "bcMGzuzELZXJ"
   },
   "source": [
    "As it can be seen above metrics are bad, we need to explore more to understand what might be going wrong\n",
    "1. Lets look at the 'CPM' variable distribution"
   ]
  },
  {
   "cell_type": "code",
   "execution_count": 25,
   "metadata": {
    "colab": {
     "base_uri": "https://localhost:8080/",
     "height": 391
    },
    "id": "fm4l1s0wLXve",
    "outputId": "b849f3a0-5882-42cb-f13b-586d4935bc3d"
   },
   "outputs": [
    {
     "name": "stderr",
     "output_type": "stream",
     "text": [
      "C:\\Users\\JD\\Anaconda3\\lib\\site-packages\\seaborn\\distributions.py:2557: FutureWarning: `distplot` is a deprecated function and will be removed in a future version. Please adapt your code to use either `displot` (a figure-level function with similar flexibility) or `histplot` (an axes-level function for histograms).\n",
      "  warnings.warn(msg, FutureWarning)\n"
     ]
    },
    {
     "data": {
      "text/plain": [
       "(0.0, 1e-06)"
      ]
     },
     "execution_count": 25,
     "metadata": {},
     "output_type": "execute_result"
    },
    {
     "data": {
      "image/png": "[encoded data removed]",
      "text/plain": [
       "<Figure size 432x288 with 1 Axes>"
      ]
     },
     "metadata": {
      "needs_background": "light"
     },
     "output_type": "display_data"
    }
   ],
   "source": [
    "# Distribution of CPM\n",
    "sns.distplot(df['CPM'],bins=1000)\n",
    "plt.ylabel(\"Density\")\n",
    "plt.ylim((0,0.000001))"
   ]
  },
  {
   "cell_type": "code",
   "execution_count": 26,
   "metadata": {
    "colab": {
     "base_uri": "https://localhost:8080/"
    },
    "id": "GECBXC5yL8BU",
    "outputId": "44302a97-0f63-4562-e37e-5a2bc61c77a3"
   },
   "outputs": [
    {
     "data": {
      "text/plain": [
       "0.000000      276330\n",
       "10.000000      15772\n",
       "20.000000      11898\n",
       "200.000000      9756\n",
       "30.000000       9136\n",
       "               ...  \n",
       "318.509804         1\n",
       "439.054726         1\n",
       "90.810811          1\n",
       "478.575096         1\n",
       "423.265306         1\n",
       "Name: CPM, Length: 35879, dtype: int64"
      ]
     },
     "execution_count": 26,
     "metadata": {},
     "output_type": "execute_result"
    }
   ],
   "source": [
    "df['CPM'].value_counts()"
   ]
  },
  {
   "cell_type": "markdown",
   "metadata": {
    "id": "b-fe4uJlL6sL"
   },
   "source": [
    "As it can be seen from above distribtuon plot and value counts,that there are plenty of zeros and as well as outliers as fars as till ~3k. Let us remove outlier first from data and see if metrics improves"
   ]
  },
  {
   "cell_type": "markdown",
   "metadata": {},
   "source": [
    "7.2 Approach 2 : ML model - XGBoost\\\n",
    "    * Model after removing outliers"
   ]
  },
  {
   "cell_type": "markdown",
   "metadata": {},
   "source": [
    "Outliers removel"
   ]
  },
  {
   "cell_type": "code",
   "execution_count": 27,
   "metadata": {
    "id": "xgCmd3vQMXyj"
   },
   "outputs": [],
   "source": [
    "# Remove outliers \n",
    "df_1 = df[df.CPM < df.CPM.quantile(.95)]\n",
    "df_1 = df_1[df_1.CPM >= 0]"
   ]
  },
  {
   "cell_type": "code",
   "execution_count": 28,
   "metadata": {},
   "outputs": [
    {
     "name": "stderr",
     "output_type": "stream",
     "text": [
      "C:\\Users\\JD\\Anaconda3\\lib\\site-packages\\seaborn\\distributions.py:2557: FutureWarning: `distplot` is a deprecated function and will be removed in a future version. Please adapt your code to use either `displot` (a figure-level function with similar flexibility) or `histplot` (an axes-level function for histograms).\n",
      "  warnings.warn(msg, FutureWarning)\n"
     ]
    },
    {
     "data": {
      "text/plain": [
       "Text(0, 0.5, 'Density')"
      ]
     },
     "execution_count": 28,
     "metadata": {},
     "output_type": "execute_result"
    },
    {
     "data": {
      "image/png": "[encoded data removed]",
      "text/plain": [
       "<Figure size 432x288 with 1 Axes>"
      ]
     },
     "metadata": {
      "needs_background": "light"
     },
     "output_type": "display_data"
    }
   ],
   "source": [
    "ax=sns.distplot(df_1['CPM'], kde_kws={\"color\": \"k\", \"lw\": 3, \"label\": \"KDE\"})\n",
    "plt.ylabel(\"Density\")\n",
    "#plt.ylim((0,0.000001))"
   ]
  },
  {
   "cell_type": "code",
   "execution_count": 29,
   "metadata": {
    "id": "IhSvv9XyMrYG"
   },
   "outputs": [],
   "source": [
    "# For modelling\n",
    "X = df_1.drop(columns=['date',\"CPM\"]) \n",
    "y = df_1['CPM']"
   ]
  },
  {
   "cell_type": "markdown",
   "metadata": {},
   "source": [
    "Training and testing points\n",
    "    * Selection based on date 06-22-2019"
   ]
  },
  {
   "cell_type": "code",
   "execution_count": 30,
   "metadata": {},
   "outputs": [],
   "source": [
    "# train_X, val_X, train_y, val_y = train_test_split(X, y,random_state = seed)\n",
    "train_X = X.loc[df_1.date < pd.Timestamp('06-22-2019')]\n",
    "val_X = X.loc[df_1.date >= pd.Timestamp('06-22-2019')]\n",
    "train_y = y.loc[df_1.date < pd.Timestamp('06-22-2019')]\n",
    "val_y_o = y.loc[df_1.date >= pd.Timestamp('06-22-2019')]"
   ]
  },
  {
   "cell_type": "markdown",
   "metadata": {},
   "source": [
    "XGBoost model fitting"
   ]
  },
  {
   "cell_type": "code",
   "execution_count": 31,
   "metadata": {
    "colab": {
     "base_uri": "https://localhost:8080/"
    },
    "id": "qU8anTL5LP_O",
    "outputId": "9af78f3d-8d79-4d0a-af19-fae7b80f8777"
   },
   "outputs": [
    {
     "name": "stdout",
     "output_type": "stream",
     "text": [
      "[16:11:44] WARNING: src/objective/regression_obj.cu:152: reg:linear is now deprecated in favor of reg:squarederror.\n"
     ]
    }
   ],
   "source": [
    "# Model fitting using XGBoost\n",
    "model_xgb2 = xgb.XGBRegressor()\n",
    "model_xgb2.fit(train_X, train_y)\n",
    "xgb_preds_noout = model_xgb2.predict(val_X)"
   ]
  },
  {
   "cell_type": "markdown",
   "metadata": {},
   "source": [
    "Error metric evaluation"
   ]
  },
  {
   "cell_type": "code",
   "execution_count": 32,
   "metadata": {},
   "outputs": [
    {
     "name": "stdout",
     "output_type": "stream",
     "text": [
      "MAE: 46.87161615239008\n",
      "MSE: 6145.12708707932\n",
      "R2: 0.44944504640902416\n"
     ]
    }
   ],
   "source": [
    "print(\"MAE:\", mean_absolute_error(val_y_o, xgb_preds_noout))\n",
    "print(\"MSE:\", mean_squared_error(val_y_o, xgb_preds_noout))\n",
    "print(\"R2:\",r2_score(val_y_o,xgb_preds_noout))"
   ]
  },
  {
   "cell_type": "markdown",
   "metadata": {
    "id": "Wiw123rdNAdB"
   },
   "source": [
    "Model performance did improve a bit, it seems that we need to deal with zeros first as it can be reason that heavy tail making our model biased towards it\n",
    "1. We are going to use two staged approach here\n",
    "2. Stage 1: Build model to classify if the CPM is zero or not\n",
    "3. Stage 2: regression model to regress for predicted non zero class\n",
    "4. Ensemble this to get final predictions"
   ]
  },
  {
   "cell_type": "markdown",
   "metadata": {},
   "source": [
    "7.3 Approach 3 : ML model - XGBoost\\\n",
    "    * Modelling after removing outliers\\\n",
    "    * Stage 1: Build model to classify if the CPM is zero or not\\\n",
    "    * Stage 2: regression model to regress for predicted non zero class\\\n",
    "    * Ensemble this to get final predictions\\"
   ]
  },
  {
   "cell_type": "markdown",
   "metadata": {},
   "source": [
    "Classifying CPM data"
   ]
  },
  {
   "cell_type": "code",
   "execution_count": 33,
   "metadata": {
    "id": "vEfD3YYSHDpC"
   },
   "outputs": [],
   "source": [
    "df['CPM_cat'] = np.where(df[\"CPM\"]>0,1,0)"
   ]
  },
  {
   "cell_type": "code",
   "execution_count": 34,
   "metadata": {
    "colab": {
     "base_uri": "https://localhost:8080/"
    },
    "id": "t-eKJyTqN7uT",
    "outputId": "b2712181-73bc-4640-8b6a-4891652374fe"
   },
   "outputs": [
    {
     "data": {
      "text/plain": [
       "0    276331\n",
       "1    267796\n",
       "Name: CPM_cat, dtype: int64"
      ]
     },
     "execution_count": 34,
     "metadata": {},
     "output_type": "execute_result"
    }
   ],
   "source": [
    "df['CPM_cat'].value_counts()"
   ]
  },
  {
   "cell_type": "markdown",
   "metadata": {
    "id": "TIY_Z4v3OBBc"
   },
   "source": [
    "We can use accuracy as metric as it can be seen that the classes are nearly balanced"
   ]
  },
  {
   "cell_type": "code",
   "execution_count": 35,
   "metadata": {},
   "outputs": [],
   "source": [
    "y_clf = df['CPM_cat']\n",
    "X_clf = df.drop(columns=['date',\"CPM\",'CPM_cat']) # For modelling"
   ]
  },
  {
   "cell_type": "markdown",
   "metadata": {},
   "source": [
    "Training and testing points\n",
    "    * Selection based on date 06-22-2019"
   ]
  },
  {
   "cell_type": "code",
   "execution_count": 36,
   "metadata": {
    "id": "BXXXH_27OYoN"
   },
   "outputs": [],
   "source": [
    "train_X_clf = X_clf.loc[df.date < pd.Timestamp('06-22-2019')]\n",
    "val_X_clf = X_clf.loc[df.date >= pd.Timestamp('06-22-2019')]\n",
    "train_y_clf = y_clf.loc[df.date < pd.Timestamp('06-22-2019')]\n",
    "val_y_clf = y_clf.loc[df.date >= pd.Timestamp('06-22-2019')]"
   ]
  },
  {
   "cell_type": "markdown",
   "metadata": {},
   "source": [
    "XGBoost model fitting"
   ]
  },
  {
   "cell_type": "code",
   "execution_count": 37,
   "metadata": {
    "colab": {
     "base_uri": "https://localhost:8080/"
    },
    "id": "V7azByTVMvkX",
    "outputId": "03197161-572e-4195-dc58-375bedb338e8"
   },
   "outputs": [
    {
     "name": "stdout",
     "output_type": "stream",
     "text": [
      "acc 0.8899011200719569\n"
     ]
    }
   ],
   "source": [
    "model_xgb_clf = xgb.XGBClassifier()\n",
    "model_xgb_clf.fit(train_X_clf, train_y_clf)\n",
    "xgb_preds_clf = model_xgb_clf.predict(val_X_clf)\n",
    "print('acc',accuracy_score(val_y_clf,xgb_preds_clf))"
   ]
  },
  {
   "cell_type": "markdown",
   "metadata": {},
   "source": [
    "Hyper parameter optimization\n",
    "     for classified CPM data"
   ]
  },
  {
   "cell_type": "code",
   "execution_count": 38,
   "metadata": {
    "id": "WKDH8qVFTbXA"
   },
   "outputs": [],
   "source": [
    "# Function used in hyper parameter optimization with the parameters\n",
    "\n",
    "def objective(trial):\n",
    "  \n",
    "\n",
    "    param = {\n",
    "        \"silent\": 1,\n",
    "        \"objective\": \"binary:logistic\",\n",
    "        \"booster\": trial.suggest_categorical(\"booster\", [\"gbtree\", \"gblinear\", \"dart\"]),\n",
    "        \"lambda\": trial.suggest_loguniform(\"lambda\", 1e-8, 1.0),\n",
    "        \"alpha\": trial.suggest_loguniform(\"alpha\", 1e-8, 1.0),\n",
    "        \"max_depth\":trial.suggest_int(\"max_depth\",4,10),\n",
    "        \"colsample_bytree\": trial.suggest_float(\"colsample_bytree\",.6,1.),\n",
    "        \"subsample\":trial.suggest_float(\"subsample\",.7,1.),\n",
    "\n",
    "    }\n",
    "\n",
    "    y_clf = df['CPM_cat']\n",
    "    X_clf = df.drop(columns=['date',\"CPM\",'CPM_cat']) # For modelling\n",
    "    \n",
    "    # train_X_clf, val_X_clf, train_y_clf, val_y_clf = train_test_split(X_clf, y_clf, random_state = seed)\n",
    "    train_X_clf = X_clf.loc[df.date < pd.Timestamp('06-22-2019')]\n",
    "    val_X_clf = X_clf.loc[df.date >= pd.Timestamp('06-22-2019')]\n",
    "    train_y_clf = y_clf.loc[df.date < pd.Timestamp('06-22-2019')]\n",
    "    val_y_clf = y_clf.loc[df.date >= pd.Timestamp('06-22-2019')]\n",
    "\n",
    "    model_xgb_clf = xgb.XGBClassifier(**param)\n",
    "    model_xgb_clf.fit(train_X_clf, train_y_clf)\n",
    "    xgb_preds_clf = model_xgb_clf.predict(val_X_clf)\n",
    "    print('acc',accuracy_score(val_y_clf,xgb_preds_clf))\n",
    "\n",
    "\n",
    "    return accuracy_score(val_y_clf,xgb_preds_clf)"
   ]
  },
  {
   "cell_type": "code",
   "execution_count": 39,
   "metadata": {
    "colab": {
     "base_uri": "https://localhost:8080/"
    },
    "id": "ckbKr8S1UePV",
    "outputId": "e403f621-b302-403f-d4ea-b2824ff2ce43"
   },
   "outputs": [
    {
     "name": "stderr",
     "output_type": "stream",
     "text": [
      "\u001b[32m[I 2021-03-22 16:12:12,930]\u001b[0m A new study created in memory with name: no-name-f654aefc-78a0-49d8-bd0d-fe3bea20557b\u001b[0m\n",
      "\u001b[32m[I 2021-03-22 16:12:19,531]\u001b[0m Trial 0 finished with value: 0.7442553010459272 and parameters: {'booster': 'gblinear', 'lambda': 0.20053489318285, 'alpha': 0.07043613173080274, 'max_depth': 7, 'colsample_bytree': 0.6096410052387309, 'subsample': 0.8829837938129335}. Best is trial 0 with value: 0.7442553010459272.\u001b[0m\n"
     ]
    },
    {
     "name": "stdout",
     "output_type": "stream",
     "text": [
      "acc 0.7442553010459272\n"
     ]
    },
    {
     "name": "stderr",
     "output_type": "stream",
     "text": [
      "\u001b[32m[I 2021-03-22 16:14:09,120]\u001b[0m Trial 1 finished with value: 0.9046206766620275 and parameters: {'booster': 'dart', 'lambda': 0.009636422788918644, 'alpha': 0.06872811203562414, 'max_depth': 9, 'colsample_bytree': 0.8133021803465543, 'subsample': 0.9921077670622159}. Best is trial 1 with value: 0.9046206766620275.\u001b[0m\n"
     ]
    },
    {
     "name": "stdout",
     "output_type": "stream",
     "text": [
      "acc 0.9046206766620275\n"
     ]
    },
    {
     "name": "stderr",
     "output_type": "stream",
     "text": [
      "\u001b[32m[I 2021-03-22 16:14:15,694]\u001b[0m Trial 2 finished with value: 0.7442553010459272 and parameters: {'booster': 'gblinear', 'lambda': 0.4690909194288006, 'alpha': 2.1654273731987882e-05, 'max_depth': 7, 'colsample_bytree': 0.9932590460353194, 'subsample': 0.8224115318836581}. Best is trial 1 with value: 0.9046206766620275.\u001b[0m\n"
     ]
    },
    {
     "name": "stdout",
     "output_type": "stream",
     "text": [
      "acc 0.7442553010459272\n"
     ]
    },
    {
     "name": "stderr",
     "output_type": "stream",
     "text": [
      "\u001b[32m[I 2021-03-22 16:14:22,267]\u001b[0m Trial 3 finished with value: 0.7442553010459272 and parameters: {'booster': 'gblinear', 'lambda': 7.076825377005214e-05, 'alpha': 0.06290570842837759, 'max_depth': 8, 'colsample_bytree': 0.6796986436759367, 'subsample': 0.8978906322707163}. Best is trial 1 with value: 0.9046206766620275.\u001b[0m\n"
     ]
    },
    {
     "name": "stdout",
     "output_type": "stream",
     "text": [
      "acc 0.7442553010459272\n"
     ]
    },
    {
     "name": "stderr",
     "output_type": "stream",
     "text": [
      "\u001b[32m[I 2021-03-22 16:14:48,080]\u001b[0m Trial 4 finished with value: 0.9019952231331627 and parameters: {'booster': 'gbtree', 'lambda': 5.46443180669114e-07, 'alpha': 0.00610746245909336, 'max_depth': 7, 'colsample_bytree': 0.7160446808807253, 'subsample': 0.9036182565173605}. Best is trial 1 with value: 0.9046206766620275.\u001b[0m\n"
     ]
    },
    {
     "name": "stdout",
     "output_type": "stream",
     "text": [
      "acc 0.9019952231331627\n"
     ]
    }
   ],
   "source": [
    "# Parameters after hyper parameter optimization\n",
    "study = optuna.create_study(direction='maximize')\n",
    "study.optimize(objective, n_trials = 5)"
   ]
  },
  {
   "cell_type": "markdown",
   "metadata": {},
   "source": [
    "Fit model for classifier"
   ]
  },
  {
   "cell_type": "code",
   "execution_count": 40,
   "metadata": {
    "id": "UNUN57VNWfBq"
   },
   "outputs": [
    {
     "name": "stdout",
     "output_type": "stream",
     "text": [
      "acc 0.9046206766620275\n"
     ]
    }
   ],
   "source": [
    "model_xgb_clf = xgb.XGBClassifier(**study.best_params)\n",
    "model_xgb_clf.fit(train_X_clf, train_y_clf)\n",
    "xgb_preds_clf = model_xgb_clf.predict(val_X_clf)\n",
    "print('acc',accuracy_score(val_y_clf,xgb_preds_clf))"
   ]
  },
  {
   "cell_type": "code",
   "execution_count": 41,
   "metadata": {
    "id": "LNixmTZCXZhZ"
   },
   "outputs": [
    {
     "data": {
      "text/plain": [
       "((516885, 13), (544127, 16))"
      ]
     },
     "execution_count": 41,
     "metadata": {},
     "output_type": "execute_result"
    }
   ],
   "source": [
    "X.shape,df.shape"
   ]
  },
  {
   "cell_type": "markdown",
   "metadata": {},
   "source": [
    "Oulier removal"
   ]
  },
  {
   "cell_type": "code",
   "execution_count": 42,
   "metadata": {
    "id": "pEcqoiDHPDWM"
   },
   "outputs": [],
   "source": [
    "df = df[df['CPM']<np.percentile(df['CPM'],95)]\n",
    "df = df[df['CPM']>=0]"
   ]
  },
  {
   "cell_type": "code",
   "execution_count": 43,
   "metadata": {},
   "outputs": [
    {
     "data": {
      "text/plain": [
       "(516885, 16)"
      ]
     },
     "execution_count": 43,
     "metadata": {},
     "output_type": "execute_result"
    }
   ],
   "source": [
    "df.shape"
   ]
  },
  {
   "cell_type": "code",
   "execution_count": 44,
   "metadata": {
    "id": "jjBBNzcyO0I5"
   },
   "outputs": [],
   "source": [
    "df['CPM_cat_pred'] = list(model_xgb_clf.predict(df[X.columns]))"
   ]
  },
  {
   "cell_type": "code",
   "execution_count": 45,
   "metadata": {},
   "outputs": [
    {
     "data": {
      "text/plain": [
       "(516885,)"
      ]
     },
     "execution_count": 45,
     "metadata": {},
     "output_type": "execute_result"
    }
   ],
   "source": [
    "df['CPM_cat_pred'].shape"
   ]
  },
  {
   "cell_type": "markdown",
   "metadata": {},
   "source": [
    "Model fitting after hyper parameter optimization and outlier removal"
   ]
  },
  {
   "cell_type": "code",
   "execution_count": 46,
   "metadata": {
    "id": "lXYsY4g8O9v-"
   },
   "outputs": [],
   "source": [
    "y_reg = df['CPM']\n",
    "X_reg = df.drop(columns=['date',\"CPM\",'CPM_cat']) # For modelling"
   ]
  },
  {
   "cell_type": "markdown",
   "metadata": {},
   "source": [
    "Training and testing points\n",
    "    * Selection based on date 06-22-2019"
   ]
  },
  {
   "cell_type": "code",
   "execution_count": 47,
   "metadata": {},
   "outputs": [],
   "source": [
    "train_X_reg = X_reg.loc[df.date < pd.Timestamp('06-22-2019')]\n",
    "val_X_reg = X_reg.loc[df.date >= pd.Timestamp('06-22-2019')]\n",
    "train_y_reg = y_reg.loc[df.date < pd.Timestamp('06-22-2019')]\n",
    "val_y_reg = y_reg.loc[df.date >= pd.Timestamp('06-22-2019')]"
   ]
  },
  {
   "cell_type": "markdown",
   "metadata": {},
   "source": [
    "Training and testing points\\\n",
    "    * Selection based on date 06-22-2019"
   ]
  },
  {
   "cell_type": "markdown",
   "metadata": {},
   "source": [
    "XGBoost model fitting"
   ]
  },
  {
   "cell_type": "code",
   "execution_count": 48,
   "metadata": {
    "id": "uNAszQfbPRQf"
   },
   "outputs": [
    {
     "name": "stdout",
     "output_type": "stream",
     "text": [
      "[16:16:43] WARNING: src/objective/regression_obj.cu:152: reg:linear is now deprecated in favor of reg:squarederror.\n",
      "MAE: 44.9503788611161\n",
      "MSE: 5954.152766525438\n",
      "R2: 0.46655484034814065\n"
     ]
    }
   ],
   "source": [
    "model_xgb_reg = xgb.XGBRegressor()\n",
    "model_xgb_reg.fit(train_X_reg, train_y_reg)\n",
    "xgb_preds_reg = model_xgb_reg.predict(val_X_reg)\n",
    "\n",
    "print(\"MAE:\", mean_absolute_error(val_y_reg, xgb_preds_reg))\n",
    "print(\"MSE:\", mean_squared_error(val_y_reg, xgb_preds_reg))\n",
    "print(\"R2:\",r2_score(val_y_reg,xgb_preds_reg))"
   ]
  },
  {
   "cell_type": "markdown",
   "metadata": {},
   "source": [
    "7.4 Approach 4\\\n",
    "     * Feature seletion based on correlation analysis "
   ]
  },
  {
   "cell_type": "markdown",
   "metadata": {},
   "source": [
    "Correlation analysis - using heatmap "
   ]
  },
  {
   "cell_type": "code",
   "execution_count": 49,
   "metadata": {},
   "outputs": [
    {
     "data": {
      "text/plain": [
       "(544127, 13)"
      ]
     },
     "execution_count": 49,
     "metadata": {},
     "output_type": "execute_result"
    },
    {
     "data": {
      "image/png": "[encoded data removed]",
      "text/plain": [
       "<Figure size 1152x576 with 2 Axes>"
      ]
     },
     "metadata": {
      "needs_background": "light"
     },
     "output_type": "display_data"
    }
   ],
   "source": [
    "# Correalation between each variables \n",
    "df_fortest = df_corr.drop(['total_revenue'],axis=1)\n",
    "plt.figure(figsize=(16,8))\n",
    "sns.heatmap(df_fortest.corr(),annot = True,cmap=\"YlGnBu\",fmt='.1g')\n",
    "\n",
    "# Inference\n",
    "# Total and viewable are are highly correlated(>0.85) with total impressions\n",
    "# Total and viewable are dropped from the data set\n",
    "\n",
    "df_fortest = df_fortest.drop(['measurable_impressions','viewable_impressions'],axis=1)\n",
    "df_fortest.shape"
   ]
  },
  {
   "cell_type": "markdown",
   "metadata": {},
   "source": [
    "Model selction"
   ]
  },
  {
   "cell_type": "code",
   "execution_count": 50,
   "metadata": {
    "id": "lXYsY4g8O9v-"
   },
   "outputs": [],
   "source": [
    "y_reg_cor = df_fortest['CPM']\n",
    "X_reg_cor = df_fortest.drop(columns=['date','CPM']) # For modelling"
   ]
  },
  {
   "cell_type": "markdown",
   "metadata": {},
   "source": [
    "Training and testing points\n",
    "    * Selection based on date 06-22-2019"
   ]
  },
  {
   "cell_type": "code",
   "execution_count": 51,
   "metadata": {},
   "outputs": [],
   "source": [
    "train_X_reg_cor = X_reg_cor.loc[df_fortest.date < pd.Timestamp('06-22-2019')]\n",
    "val_X_reg_cor = X_reg_cor.loc[df_fortest.date >= pd.Timestamp('06-22-2019')]\n",
    "train_y_reg_cor = y_reg_cor.loc[df_fortest.date < pd.Timestamp('06-22-2019')]\n",
    "val_y_reg_cor = y_reg_cor.loc[df_fortest.date >= pd.Timestamp('06-22-2019')]"
   ]
  },
  {
   "cell_type": "markdown",
   "metadata": {},
   "source": [
    "XGBoost model fitting"
   ]
  },
  {
   "cell_type": "code",
   "execution_count": 52,
   "metadata": {
    "id": "uNAszQfbPRQf"
   },
   "outputs": [
    {
     "name": "stdout",
     "output_type": "stream",
     "text": [
      "[16:16:58] WARNING: src/objective/regression_obj.cu:152: reg:linear is now deprecated in favor of reg:squarederror.\n",
      "MAE: 107.60195227413625\n",
      "MSE: 331073.8535849695\n",
      "R2: 0.08664836581084467\n"
     ]
    }
   ],
   "source": [
    "model_xgb_reg_cor = xgb.XGBRegressor()\n",
    "model_xgb_reg_cor.fit(train_X_reg_cor, train_y_reg_cor)\n",
    "xgb_preds_reg_cor = model_xgb_reg_cor.predict(val_X_reg_cor)\n",
    "\n",
    "print(\"MAE:\", mean_absolute_error(val_y_reg_cor, xgb_preds_reg_cor))\n",
    "print(\"MSE:\", mean_squared_error(val_y_reg_cor, xgb_preds_reg_cor))\n",
    "print(\"R2:\",r2_score(val_y_reg_cor,xgb_preds_reg_cor))"
   ]
  },
  {
   "cell_type": "markdown",
   "metadata": {},
   "source": [
    "Further study is not required as mentioned in approach 2 (removal of outliers) and approach 3 ( Ensembling regression and classification after Hyper parameter optimization)\\\n",
    "Since this approach gives similar error metrics compared to approach 1. Upgrading this will provide outcomes similar to approach 2 and approach 3. So the further study is ignored."
   ]
  },
  {
   "cell_type": "markdown",
   "metadata": {},
   "source": [
    "# Model selection"
   ]
  },
  {
   "cell_type": "code",
   "execution_count": 53,
   "metadata": {},
   "outputs": [
    {
     "name": "stdout",
     "output_type": "stream",
     "text": [
      "R2_1: 0.08742662833759507\n",
      "R2_2: 0.44944504640902416\n",
      "R2_3: 0.46655484034814065\n",
      "R2_4: 0.08664836581084467\n"
     ]
    }
   ],
   "source": [
    "# R2 error comparison\n",
    "print(\"R2_1:\",r2_score(val_y,xgb_preds))\n",
    "print(\"R2_2:\",r2_score(val_y_o,xgb_preds_noout))\n",
    "print(\"R2_3:\",r2_score(val_y_reg,xgb_preds_reg))\n",
    "print(\"R2_4:\",r2_score(val_y_reg_cor,xgb_preds_reg_cor))"
   ]
  },
  {
   "cell_type": "code",
   "execution_count": 54,
   "metadata": {},
   "outputs": [
    {
     "name": "stdout",
     "output_type": "stream",
     "text": [
      "MSE_1: 330791.74714952114\n",
      "MSE_2: 6145.12708707932\n",
      "MSE_3: 5954.152766525438\n",
      "MSE_4: 331073.8535849695\n"
     ]
    }
   ],
   "source": [
    "# MSE error comparison\n",
    "print(\"MSE_1:\", mean_squared_error(val_y, xgb_preds))\n",
    "print(\"MSE_2:\", mean_squared_error(val_y_o, xgb_preds_noout))\n",
    "print(\"MSE_3:\", mean_squared_error(val_y_reg, xgb_preds_reg))\n",
    "print(\"MSE_4:\", mean_squared_error(val_y_reg_cor, xgb_preds_reg_cor))"
   ]
  },
  {
   "cell_type": "code",
   "execution_count": 55,
   "metadata": {},
   "outputs": [
    {
     "name": "stdout",
     "output_type": "stream",
     "text": [
      "MAE_1: 107.33936764099386\n",
      "MAE_2: 46.87161615239008\n",
      "MAE_3: 44.9503788611161\n",
      "MAE_4: 107.60195227413625\n"
     ]
    }
   ],
   "source": [
    "# MAE error\n",
    "print(\"MAE_1:\", mean_absolute_error(val_y, xgb_preds))\n",
    "print(\"MAE_2:\", mean_absolute_error(val_y_o, xgb_preds_noout))\n",
    "print(\"MAE_3:\", mean_absolute_error(val_y_reg, xgb_preds_reg))\n",
    "print(\"MAE_4:\", mean_absolute_error(val_y_reg_cor, xgb_preds_reg_cor))"
   ]
  },
  {
   "cell_type": "markdown",
   "metadata": {},
   "source": [
    "Based on the error metric model from approach 3 is choosed as best fit to the data.\n",
    "For example, MAE error is reduced around 41%\\\n",
    "Apporch 3 consists: \\\n",
    "    * Model bulit with XGBoost ML algorithm\\\n",
    "    * Outliers are not considered in CPM\\\n",
    "    * Hyper parameter optimization is carried out to identify the best parameter combinations for XGBoost\\\n",
    "    * Error metric comparison with approach 1"
   ]
  },
  {
   "cell_type": "code",
   "execution_count": 56,
   "metadata": {},
   "outputs": [],
   "source": [
    "best_df= pd.DataFrame({})\n",
    "best_df['CPM_actual']= val_y_reg"
   ]
  },
  {
   "cell_type": "code",
   "execution_count": 57,
   "metadata": {},
   "outputs": [],
   "source": [
    "best_df['Pred_CPM'] = xgb_preds_reg"
   ]
  },
  {
   "cell_type": "markdown",
   "metadata": {},
   "source": [
    "Revenue calculation"
   ]
  },
  {
   "cell_type": "code",
   "execution_count": 58,
   "metadata": {},
   "outputs": [
    {
     "data": {
      "text/html": [
       "<div>\n",
       "<style scoped>\n",
       "    .dataframe tbody tr th:only-of-type {\n",
       "        vertical-align: middle;\n",
       "    }\n",
       "\n",
       "    .dataframe tbody tr th {\n",
       "        vertical-align: top;\n",
       "    }\n",
       "\n",
       "    .dataframe thead th {\n",
       "        text-align: right;\n",
       "    }\n",
       "</style>\n",
       "<table border=\"1\" class=\"dataframe\">\n",
       "  <thead>\n",
       "    <tr style=\"text-align: right;\">\n",
       "      <th></th>\n",
       "      <th>Actual_Impressions</th>\n",
       "      <th>CPM_actual</th>\n",
       "      <th>Pred_CPM</th>\n",
       "      <th>Pred_Rev</th>\n",
       "    </tr>\n",
       "  </thead>\n",
       "  <tbody>\n",
       "    <tr>\n",
       "      <th>117125</th>\n",
       "      <td>4</td>\n",
       "      <td>140.0</td>\n",
       "      <td>139.165878</td>\n",
       "      <td>0.005567</td>\n",
       "    </tr>\n",
       "    <tr>\n",
       "      <th>78708</th>\n",
       "      <td>0</td>\n",
       "      <td>0.0</td>\n",
       "      <td>13.942388</td>\n",
       "      <td>0.000000</td>\n",
       "    </tr>\n",
       "    <tr>\n",
       "      <th>82690</th>\n",
       "      <td>132</td>\n",
       "      <td>125.0</td>\n",
       "      <td>93.604446</td>\n",
       "      <td>0.123558</td>\n",
       "    </tr>\n",
       "    <tr>\n",
       "      <th>8817</th>\n",
       "      <td>0</td>\n",
       "      <td>0.0</td>\n",
       "      <td>-3.301842</td>\n",
       "      <td>-0.000000</td>\n",
       "    </tr>\n",
       "    <tr>\n",
       "      <th>165123</th>\n",
       "      <td>0</td>\n",
       "      <td>0.0</td>\n",
       "      <td>-0.858597</td>\n",
       "      <td>-0.000000</td>\n",
       "    </tr>\n",
       "  </tbody>\n",
       "</table>\n",
       "</div>"
      ],
      "text/plain": [
       "        Actual_Impressions  CPM_actual    Pred_CPM  Pred_Rev\n",
       "117125                   4       140.0  139.165878  0.005567\n",
       "78708                    0         0.0   13.942388  0.000000\n",
       "82690                  132       125.0   93.604446  0.123558\n",
       "8817                     0         0.0   -3.301842 -0.000000\n",
       "165123                   0         0.0   -0.858597 -0.000000"
      ]
     },
     "execution_count": 58,
     "metadata": {},
     "output_type": "execute_result"
    }
   ],
   "source": [
    "revenue_df = pd.DataFrame({'Actual_Impressions': val_X_reg['total_impressions'].values,  'CPM_actual': val_y_reg, \n",
    "                           'Pred_CPM': best_df['Pred_CPM'].values})\n",
    "\n",
    "revenue_df['Pred_Rev'] = revenue_df['Pred_CPM'] * revenue_df['Actual_Impressions'] / (1000 * 100)\n",
    "revenue_df['Pred_Rev'] = revenue_df['Pred_Rev'].clip(lower=0)\n",
    "revenue_df.sample(n=5)"
   ]
  },
  {
   "cell_type": "markdown",
   "metadata": {},
   "source": [
    "# Questions"
   ]
  },
  {
   "cell_type": "markdown",
   "metadata": {},
   "source": [
    "1. What is the potential revenue range our publisher can make in July?"
   ]
  },
  {
   "cell_type": "code",
   "execution_count": 73,
   "metadata": {
    "scrolled": true
   },
   "outputs": [
    {
     "name": "stdout",
     "output_type": "stream",
     "text": [
      "Average revenue of june month: 0.07\n",
      "Predicted revenue range of july month: 0.05 0.07\n"
     ]
    }
   ],
   "source": [
    "print('Average revenue of june month:', np.round(Xact[\"total_revenue\"].mean(),2))\n",
    "P =np.round(revenue_df[\"Pred_Rev\"].mean(),2)\n",
    "print('Predicted revenue range of july month:', np.round(P-P*0.2,2),np.round(P+P*0.2,2))"
   ]
  },
  {
   "cell_type": "markdown",
   "metadata": {},
   "source": [
    "2. What is the reserve prices that he/she can set ?"
   ]
  },
  {
   "cell_type": "code",
   "execution_count": 60,
   "metadata": {},
   "outputs": [
    {
     "name": "stdout",
     "output_type": "stream",
     "text": [
      "Reserve price of june month: 540.0\n",
      "Predicted reserve price of july month: 394.35\n"
     ]
    }
   ],
   "source": [
    "print('Reserve price of june month:', np.round(best_df[\"CPM_actual\"].max(),2))\n",
    "print('Predicted reserve price of july month:',np.round(best_df[\"Pred_CPM\"].max(),2))"
   ]
  }
 ],
 "metadata": {
  "colab": {
   "collapsed_sections": [],
   "name": "Deepan_Ascendeum_dataset.ipynb",
   "provenance": []
  },
  "kernelspec": {
   "display_name": "Python 3",
   "language": "python",
   "name": "python3"
  },
  "language_info": {
   "codemirror_mode": {
    "name": "ipython",
    "version": 3
   },
   "file_extension": ".py",
   "mimetype": "text/x-python",
   "name": "python",
   "nbconvert_exporter": "python",
   "pygments_lexer": "ipython3",
   "version": "3.7.1"
  }
 },
 "nbformat": 4,
 "nbformat_minor": 1
}
